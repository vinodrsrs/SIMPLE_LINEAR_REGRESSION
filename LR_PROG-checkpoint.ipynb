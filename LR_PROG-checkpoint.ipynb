{
 "cells": [
  {
   "cell_type": "code",
   "execution_count": 1,
   "metadata": {},
   "outputs": [],
   "source": [
    "import numpy as np\n"
   ]
  },
  {
   "cell_type": "code",
   "execution_count": 2,
   "metadata": {},
   "outputs": [],
   "source": [
    "def lin_fun(X,theta):\n",
    "    return np.dot(X,theta)"
   ]
  },
  {
   "cell_type": "code",
   "execution_count": 3,
   "metadata": {},
   "outputs": [],
   "source": [
    "def cost_fun(X,Y,theta):\n",
    "    ypred = lin_fun(X,theta)\n",
    "    return (((ypred-Y)**2).mean())/2"
   ]
  },
  {
   "cell_type": "code",
   "execution_count": 50,
   "metadata": {},
   "outputs": [
    {
     "name": "stdout",
     "output_type": "stream",
     "text": [
      "theat values are :  [-20.28715531  21.99275765]\n",
      "cost funt value values are :  0.07274764604077041\n"
     ]
    }
   ],
   "source": [
    "def grad(lr = 0.01):\n",
    "    x = np.arange(1,11)\n",
    "    Y = np.linspace(1,200,10)\n",
    "    X = np.column_stack((np.ones(len(x)),x))\n",
    "    cost = []\n",
    "    theta = np.zeros(2)\n",
    "    for i in range(1600):\n",
    "        ypred = lin_fun(X,theta)\n",
    "        t0 = theta[0] - lr * (ypred - Y).mean()  \n",
    "        t1 = theta[1] - lr * ((ypred - Y)*X[:,1]).mean()\n",
    "        theta = np.array([t0,t1])\n",
    "        j =  cost_fun(X,Y,theta)\n",
    "        cost.append(j)\n",
    "    print(\"theat values are : \",theta)\n",
    "    print(\"cost funt value values are : \",cost[-1])\n",
    "\n",
    "grad()"
   ]
  },
  {
   "cell_type": "code",
   "execution_count": 51,
   "metadata": {},
   "outputs": [
    {
     "name": "stdout",
     "output_type": "stream",
     "text": [
      "3\n"
     ]
    }
   ],
   "source": [
    "a  = 1\n",
    "b  = float(input())\n"
   ]
  },
  {
   "cell_type": "code",
   "execution_count": 52,
   "metadata": {},
   "outputs": [
    {
     "name": "stdout",
     "output_type": "stream",
     "text": [
      "45.69111764\n"
     ]
    }
   ],
   "source": [
    "print(-20.28715531*a+21.99275765*b)"
   ]
  },
  {
   "cell_type": "code",
   "execution_count": 33,
   "metadata": {},
   "outputs": [
    {
     "data": {
      "text/plain": [
       "array([  1.        ,  23.11111111,  45.22222222,  67.33333333,\n",
       "        89.44444444, 111.55555556, 133.66666667, 155.77777778,\n",
       "       177.88888889, 200.        ])"
      ]
     },
     "execution_count": 33,
     "metadata": {},
     "output_type": "execute_result"
    }
   ],
   "source": [
    "Y = np.linspace(1,200,10)\n",
    "Y"
   ]
  },
  {
   "cell_type": "code",
   "execution_count": 6,
   "metadata": {},
   "outputs": [
    {
     "data": {
      "text/plain": [
       "array([ 1,  2,  3,  4,  5,  6,  7,  8,  9, 10])"
      ]
     },
     "execution_count": 6,
     "metadata": {},
     "output_type": "execute_result"
    }
   ],
   "source": [
    "x = np.arange(1,11)\n",
    "x"
   ]
  },
  {
   "cell_type": "code",
   "execution_count": null,
   "metadata": {},
   "outputs": [],
   "source": []
  }
 ],
 "metadata": {
  "kernelspec": {
   "display_name": "Python 3",
   "language": "python",
   "name": "python3"
  },
  "language_info": {
   "codemirror_mode": {
    "name": "ipython",
    "version": 3
   },
   "file_extension": ".py",
   "mimetype": "text/x-python",
   "name": "python",
   "nbconvert_exporter": "python",
   "pygments_lexer": "ipython3",
   "version": "3.7.4"
  }
 },
 "nbformat": 4,
 "nbformat_minor": 2
}
